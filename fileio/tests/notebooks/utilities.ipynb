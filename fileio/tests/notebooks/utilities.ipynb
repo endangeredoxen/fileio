{
 "cells": [
  {
   "cell_type": "markdown",
   "metadata": {},
   "source": [
    "# fileio.utilities"
   ]
  },
  {
   "cell_type": "markdown",
   "metadata": {},
   "source": [
    "## Setup"
   ]
  },
  {
   "cell_type": "code",
   "execution_count": null,
   "metadata": {},
   "outputs": [],
   "source": [
    "# Imports\n",
    "%load_ext autoreload\n",
    "%autoreload 2\n",
    "import os, sys, pdb, time\n",
    "from IPython.display import display\n",
    "#sys.path = [r'C:\\GitHub\\fileio'] + sys.path\n",
    "path = os.path.abspath('..\\..\\..'); sys.path.insert(0, path) if path not in sys.path else None\n",
    "import fileio\n",
    "osjoin, osplit, abspath = os.path.join, os.path.split, os.path.abspath\n",
    "st = pdb.set_trace\n",
    "\n",
    "fileio"
   ]
  },
  {
   "cell_type": "markdown",
   "metadata": {},
   "source": [
    "## convert_rst"
   ]
  },
  {
   "cell_type": "code",
   "execution_count": null,
   "metadata": {
    "collapsed": true
   },
   "outputs": [],
   "source": []
  },
  {
   "cell_type": "markdown",
   "metadata": {},
   "source": [
    "## print"
   ]
  },
  {
   "cell_type": "code",
   "execution_count": null,
   "metadata": {},
   "outputs": [],
   "source": [
    "for i in range(0, 10):\n",
    "    if i == 9:\n",
    "        fileio.utilities.print('hi' + str(i), end='\\n', post_text='done!')\n",
    "    else:\n",
    "        fileio.utilities.print('hi' + str(i), end='')\n",
    "    time.sleep(0.2)"
   ]
  },
  {
   "cell_type": "code",
   "execution_count": null,
   "metadata": {},
   "outputs": [],
   "source": [
    "for i in range(0, 10):\n",
    "    if i == 9:\n",
    "        fileio.utilities.print('hi' + str(i), end='\\n', post_text='done!')\n",
    "    else:\n",
    "        fileio.utilities.print('hi' + str(i), end='\\n')\n",
    "    time.sleep(0.2)"
   ]
  },
  {
   "cell_type": "markdown",
   "metadata": {},
   "source": [
    "## meta_length"
   ]
  },
  {
   "cell_type": "code",
   "execution_count": null,
   "metadata": {},
   "outputs": [],
   "source": [
    "DIR = abspath('..')\n",
    "DIR"
   ]
  },
  {
   "cell_type": "code",
   "execution_count": null,
   "metadata": {},
   "outputs": [],
   "source": [
    "    # Case file not found\n",
    "    file = 'unheavenly_creatures.csv'\n",
    "    lines = fileio.utilities.meta_length(file)\n",
    "    assert lines == -1\n",
    "    print(lines)"
   ]
  },
  {
   "cell_type": "code",
   "execution_count": null,
   "metadata": {},
   "outputs": [],
   "source": [
    "# Case found\n",
    "file = osjoin(DIR, 'data_key_example.csv')\n",
    "lines = fileio.utilities.meta_length(file)\n",
    "assert lines == 4\n",
    "lines"
   ]
  },
  {
   "cell_type": "code",
   "execution_count": null,
   "metadata": {},
   "outputs": [],
   "source": [
    "# Case found and next line\n",
    "lines = fileio.utilities.meta_length(file, next_line=True)\n",
    "assert lines == (4, 'Coheed,Jane,Sue')\n",
    "lines"
   ]
  },
  {
   "cell_type": "code",
   "execution_count": null,
   "metadata": {},
   "outputs": [],
   "source": [
    "# Case found\n",
    "file = osjoin(DIR, 'data_key_example.csv.gz')\n",
    "lines = fileio.utilities.meta_length(file, verbose=False)\n",
    "assert lines == 4\n",
    "lines"
   ]
  },
  {
   "cell_type": "code",
   "execution_count": null,
   "metadata": {},
   "outputs": [],
   "source": [
    "# Case found and next line\n",
    "lines = fileio.utilities.meta_length(file, next_line=True)\n",
    "assert lines == (4, 'Coheed,Jane,Sue')\n",
    "lines"
   ]
  },
  {
   "cell_type": "code",
   "execution_count": null,
   "metadata": {},
   "outputs": [],
   "source": [
    "# Case not found bad keyword read all\n",
    "lines = fileio.utilities.meta_length(file, 'boom')\n",
    "assert lines == -1\n",
    "lines"
   ]
  },
  {
   "cell_type": "code",
   "execution_count": null,
   "metadata": {},
   "outputs": [],
   "source": [
    "# Case not found limited lines\n",
    "lines = fileio.utilities.meta_length(file, max_lines=1)\n",
    "assert lines == -1\n",
    "lines"
   ]
  },
  {
   "cell_type": "markdown",
   "metadata": {},
   "source": [
    "## read_csv"
   ]
  },
  {
   "cell_type": "code",
   "execution_count": null,
   "metadata": {},
   "outputs": [],
   "source": [
    "# Case of simple csv\n",
    "file = osjoin(DIR, 'simple_csv_example.csv')\n",
    "df = fileio.utilities.read_csv(file)\n",
    "assert df.loc[0, 'Coheed'] == 1\n",
    "df"
   ]
  },
  {
   "cell_type": "code",
   "execution_count": null,
   "metadata": {},
   "outputs": [],
   "source": [
    "# Case of simple file with different delimiter\n",
    "file = osjoin(DIR, 'simple_non-csv_example.csv')\n",
    "df = fileio.utilities.read_csv(file, sep=';')\n",
    "assert df.loc[0, 'Coheed'] == 1\n",
    "df"
   ]
  },
  {
   "cell_type": "code",
   "execution_count": null,
   "metadata": {},
   "outputs": [],
   "source": [
    "# Case of simple gzipped csv\n",
    "file = osjoin(DIR, 'simple_csv_example.csv.gz')\n",
    "df = fileio.utilities.read_csv(file)\n",
    "assert df.loc[0, 'Coheed'] == 1\n",
    "df"
   ]
  },
  {
   "cell_type": "code",
   "execution_count": null,
   "metadata": {},
   "outputs": [],
   "source": [
    "# Case of simple gzip file with different delimiter\n",
    "file = osjoin(DIR, 'simple_non-csv_example.csv.gz')\n",
    "df = fileio.utilities.read_csv(file, sep=';')\n",
    "assert df.loc[0, 'Coheed'] == 1\n",
    "df"
   ]
  },
  {
   "cell_type": "markdown",
   "metadata": {},
   "source": [
    "## read_data"
   ]
  },
  {
   "cell_type": "code",
   "execution_count": null,
   "metadata": {},
   "outputs": [],
   "source": [
    "# Case of meta\n",
    "file = osjoin(DIR, 'data_key_example.csv')\n",
    "df, meta = fileio.utilities.read_data(file, data_key='[DATA]')\n",
    "assert df.loc[0, 'Coheed'] == 1\n",
    "assert meta.loc[0, 'Meta1'] == 1\n",
    "display(meta)\n",
    "display(df)"
   ]
  },
  {
   "cell_type": "code",
   "execution_count": null,
   "metadata": {},
   "outputs": [],
   "source": [
    "# Case of meta\n",
    "file = osjoin(DIR, 'data_key_example.csv.gz')\n",
    "df, meta = fileio.utilities.read_data(file, data_key='[DATA]')\n",
    "assert df.loc[0, 'Coheed'] == 1\n",
    "assert meta.loc[0, 'Meta1'] == 1\n",
    "display(meta)\n",
    "display(df)"
   ]
  },
  {
   "cell_type": "markdown",
   "metadata": {},
   "source": [
    "## write_data"
   ]
  },
  {
   "cell_type": "code",
   "execution_count": null,
   "metadata": {},
   "outputs": [],
   "source": [
    "file = osjoin(DIR, 'data_key_example.csv')\n",
    "df, meta = fileio.utilities.read_data(file, data_key='[DATA]')\n",
    "fileio.utilities.write_data('test.csv', df, meta, data_key='[DATA]')\n",
    "df, meta = fileio.utilities.read_data('test.csv', data_key='[DATA]')\n",
    "assert df.loc[0, 'Coheed'] == 1\n",
    "assert meta.loc[0, 'Meta1'] == 1\n",
    "os.remove('test.csv')\n",
    "display(meta)\n",
    "display(df)"
   ]
  },
  {
   "cell_type": "code",
   "execution_count": null,
   "metadata": {},
   "outputs": [],
   "source": [
    "file = osjoin(DIR, 'data_key_example.csv')\n",
    "df, meta = fileio.utilities.read_data(file, data_key='[DATA]')\n",
    "fileio.utilities.write_data('test.csv.gz', df, meta, data_key='[DATA]')\n",
    "df, meta = fileio.utilities.read_data('test.csv.gz', data_key='[DATA]')\n",
    "assert df.loc[0, 'Coheed'] == 1\n",
    "assert meta.loc[0, 'Meta1'] == 1\n",
    "os.remove('test.csv.gz')\n",
    "display(meta)\n",
    "display(df)"
   ]
  },
  {
   "cell_type": "markdown",
   "metadata": {},
   "source": [
    "## set_filemode"
   ]
  },
  {
   "cell_type": "code",
   "execution_count": null,
   "metadata": {
    "collapsed": true
   },
   "outputs": [],
   "source": []
  },
  {
   "cell_type": "markdown",
   "metadata": {},
   "source": [
    "## str_2_dtype"
   ]
  },
  {
   "cell_type": "code",
   "execution_count": null,
   "metadata": {
    "collapsed": true
   },
   "outputs": [],
   "source": []
  }
 ],
 "metadata": {
  "hide_input": false,
  "kernelspec": {
   "display_name": "Python 3",
   "language": "python",
   "name": "python3"
  },
  "language_info": {
   "codemirror_mode": {
    "name": "ipython",
    "version": 3
   },
   "file_extension": ".py",
   "mimetype": "text/x-python",
   "name": "python",
   "nbconvert_exporter": "python",
   "pygments_lexer": "ipython3",
   "version": "3.6.2"
  },
  "toc": {
   "colors": {
    "hover_highlight": "#32a44d",
    "running_highlight": "#FF0000",
    "selected_highlight": "#FFD700"
   },
   "moveMenuLeft": true,
   "nav_menu": {},
   "navigate_menu": false,
   "number_sections": true,
   "sideBar": true,
   "skip_h1_title": true,
   "threshold": 4,
   "toc_cell": false,
   "toc_position": {},
   "toc_section_display": "block",
   "toc_window_display": true,
   "widenNotebook": false
  }
 },
 "nbformat": 4,
 "nbformat_minor": 1
}
